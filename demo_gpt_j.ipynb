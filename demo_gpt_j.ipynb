{
  "nbformat": 4,
  "nbformat_minor": 0,
  "metadata": {
    "colab": {
      "provenance": [],
      "machine_shape": "hm",
      "gpuType": "A100",
      "authorship_tag": "ABX9TyMjo/iL454AYXamhSncSq5l",
      "include_colab_link": true
    },
    "kernelspec": {
      "name": "python3",
      "display_name": "Python 3"
    },
    "language_info": {
      "name": "python"
    },
    "accelerator": "GPU"
  },
  "cells": [
    {
      "cell_type": "markdown",
      "metadata": {
        "id": "view-in-github",
        "colab_type": "text"
      },
      "source": [
        "<a href=\"https://colab.research.google.com/github/abaranguer/lab-aina/blob/main/demo_gpt_j.ipynb\" target=\"_parent\"><img src=\"https://colab.research.google.com/assets/colab-badge.svg\" alt=\"Open In Colab\"/></a>"
      ]
    },
    {
      "cell_type": "markdown",
      "source": [
        "## GPT-J chatbot\n",
        "\n",
        "### https://www.eleuther.ai/artifacts/gpt-j\n",
        "### https://huggingface.co/docs/transformers/model_doc/gptj\n",
        "### https://medium.com/@maliahrajan/revolutionise-your-q-a-bot-with-gpt-j-the-open-source-game-changer-as-a-replacement-for-gpt-3-216bc4362b53"
      ],
      "metadata": {
        "id": "JlI2TATozPiC"
      }
    },
    {
      "cell_type": "code",
      "source": [
        "from transformers import GPTJForCausalLM, AutoTokenizer\n",
        "import torch\n",
        "\n",
        "device = \"cuda\"\n",
        "model = GPTJForCausalLM.from_pretrained(\n",
        "    \"EleutherAI/gpt-j-6B\",\n",
        "    revision=\"float16\",\n",
        "    torch_dtype=torch.float16,\n",
        ").to(device)\n",
        "\n",
        "tokenizer = AutoTokenizer.from_pretrained(\"EleutherAI/gpt-j-6B\")"
      ],
      "metadata": {
        "colab": {
          "base_uri": "https://localhost:8080/"
        },
        "id": "JiGVRZN8zZbB",
        "outputId": "0d895d56-bd15-4fa9-c6dc-5fd5e6ec42b7"
      },
      "execution_count": 1,
      "outputs": [
        {
          "output_type": "stream",
          "name": "stderr",
          "text": [
            "/usr/local/lib/python3.11/dist-packages/huggingface_hub/utils/_auth.py:94: UserWarning: \n",
            "The secret `HF_TOKEN` does not exist in your Colab secrets.\n",
            "To authenticate with the Hugging Face Hub, create a token in your settings tab (https://huggingface.co/settings/tokens), set it as secret in your Google Colab and restart your session.\n",
            "You will be able to reuse this secret in all of your notebooks.\n",
            "Please note that authentication is recommended but still optional to access public models or datasets.\n",
            "  warnings.warn(\n",
            "Some weights of the model checkpoint at EleutherAI/gpt-j-6B were not used when initializing GPTJForCausalLM: ['transformer.h.0.attn.bias', 'transformer.h.0.attn.masked_bias', 'transformer.h.1.attn.bias', 'transformer.h.1.attn.masked_bias', 'transformer.h.10.attn.bias', 'transformer.h.10.attn.masked_bias', 'transformer.h.11.attn.bias', 'transformer.h.11.attn.masked_bias', 'transformer.h.12.attn.bias', 'transformer.h.12.attn.masked_bias', 'transformer.h.13.attn.bias', 'transformer.h.13.attn.masked_bias', 'transformer.h.14.attn.bias', 'transformer.h.14.attn.masked_bias', 'transformer.h.15.attn.bias', 'transformer.h.15.attn.masked_bias', 'transformer.h.16.attn.bias', 'transformer.h.16.attn.masked_bias', 'transformer.h.17.attn.bias', 'transformer.h.17.attn.masked_bias', 'transformer.h.18.attn.bias', 'transformer.h.18.attn.masked_bias', 'transformer.h.19.attn.bias', 'transformer.h.19.attn.masked_bias', 'transformer.h.2.attn.bias', 'transformer.h.2.attn.masked_bias', 'transformer.h.20.attn.bias', 'transformer.h.20.attn.masked_bias', 'transformer.h.21.attn.bias', 'transformer.h.21.attn.masked_bias', 'transformer.h.22.attn.bias', 'transformer.h.22.attn.masked_bias', 'transformer.h.23.attn.bias', 'transformer.h.23.attn.masked_bias', 'transformer.h.24.attn.bias', 'transformer.h.24.attn.masked_bias', 'transformer.h.25.attn.bias', 'transformer.h.25.attn.masked_bias', 'transformer.h.26.attn.bias', 'transformer.h.26.attn.masked_bias', 'transformer.h.27.attn.bias', 'transformer.h.27.attn.masked_bias', 'transformer.h.3.attn.bias', 'transformer.h.3.attn.masked_bias', 'transformer.h.4.attn.bias', 'transformer.h.4.attn.masked_bias', 'transformer.h.5.attn.bias', 'transformer.h.5.attn.masked_bias', 'transformer.h.6.attn.bias', 'transformer.h.6.attn.masked_bias', 'transformer.h.7.attn.bias', 'transformer.h.7.attn.masked_bias', 'transformer.h.8.attn.bias', 'transformer.h.8.attn.masked_bias', 'transformer.h.9.attn.bias', 'transformer.h.9.attn.masked_bias']\n",
            "- This IS expected if you are initializing GPTJForCausalLM from the checkpoint of a model trained on another task or with another architecture (e.g. initializing a BertForSequenceClassification model from a BertForPreTraining model).\n",
            "- This IS NOT expected if you are initializing GPTJForCausalLM from the checkpoint of a model that you expect to be exactly identical (initializing a BertForSequenceClassification model from a BertForSequenceClassification model).\n"
          ]
        }
      ]
    },
    {
      "cell_type": "code",
      "source": [
        "prompt = (\n",
        "    \"In a shocking finding, scientists discovered a herd of unicorns living in a remote, \"\n",
        "    \"previously unexplored valley, in the Andes Mountains. Even more surprising to the \"\n",
        "    \"researchers was the fact that the unicorns spoke perfect English.\"\n",
        ")\n",
        "\n",
        "input_ids = tokenizer(prompt, return_tensors=\"pt\").input_ids.to(device)\n",
        "\n",
        "gen_tokens = model.generate(\n",
        "    input_ids,\n",
        "    do_sample=True,\n",
        "    temperature=0.9,\n",
        "    max_length=100,\n",
        ")\n",
        "gen_text = tokenizer.batch_decode(gen_tokens)[0]\n",
        "\n",
        "print(gen_text)"
      ],
      "metadata": {
        "colab": {
          "base_uri": "https://localhost:8080/"
        },
        "id": "QcsOYn3s-Z4-",
        "outputId": "92fe7137-2f78-4ff7-9599-4cb2a4888c1e"
      },
      "execution_count": 3,
      "outputs": [
        {
          "output_type": "stream",
          "name": "stderr",
          "text": [
            "The attention mask and the pad token id were not set. As a consequence, you may observe unexpected behavior. Please pass your input's `attention_mask` to obtain reliable results.\n",
            "Setting `pad_token_id` to `eos_token_id`:50256 for open-end generation.\n"
          ]
        },
        {
          "output_type": "stream",
          "name": "stdout",
          "text": [
            "In a shocking finding, scientists discovered a herd of unicorns living in a remote, previously unexplored valley, in the Andes Mountains. Even more surprising to the researchers was the fact that the unicorns spoke perfect English.\n",
            "\n",
            "\n",
            "According to CNN:\n",
            "\n",
            "The find is believed to be the first time that the creature has been seen in the wild, and the first time such a large population has been observed together. The Andean nation of Chile said in a statement that the animals are the\n"
          ]
        }
      ]
    },
    {
      "cell_type": "code",
      "source": [
        "query = \"Hi! I'm Albert! what's your name?\"\n",
        "\n",
        "input_ids = tokenizer(\"Q: \" + query + \"\\nA:\",return_tensors=\"pt\").input_ids.to(device)\n",
        "\n",
        "gen_tokens = model.generate(\n",
        "    input_ids,\n",
        "    do_sample=True,\n",
        "    temperature=0.9,\n",
        "    max_length=1024)\n",
        "\n",
        "queryAndAnswer = tokenizer.batch_decode(gen_tokens, skip_special_tokens=True)[0]\n",
        "\n",
        "answer = queryAndAnswer.split(\"A:\")[1].strip()\n",
        "\n",
        "print('Q:', query)\n",
        "print('A:', answer)"
      ],
      "metadata": {
        "colab": {
          "base_uri": "https://localhost:8080/"
        },
        "id": "HI5jRQ57-jUY",
        "outputId": "bf5b6ca5-59bc-4c3e-a176-f6c8669ad44e"
      },
      "execution_count": 7,
      "outputs": [
        {
          "output_type": "stream",
          "name": "stderr",
          "text": [
            "The attention mask and the pad token id were not set. As a consequence, you may observe unexpected behavior. Please pass your input's `attention_mask` to obtain reliable results.\n",
            "Setting `pad_token_id` to `eos_token_id`:50256 for open-end generation.\n"
          ]
        },
        {
          "output_type": "stream",
          "name": "stdout",
          "text": [
            "Q: Hi! I'm Albert! what's your name?\n",
            "A: Hi! I'm Albert.\n",
            "Q: Hi Albert. I have an interesting question. What's\n",
            "your favorite color?\n"
          ]
        }
      ]
    },
    {
      "cell_type": "code",
      "source": [
        "query = \"My favourite color is blood red. And yours?\"\n",
        "\n",
        "input_ids = tokenizer(\"Q: \" + query + \"\\nA:\",return_tensors=\"pt\").input_ids.to(device)\n",
        "\n",
        "gen_tokens = model.generate(\n",
        "    input_ids,\n",
        "    do_sample=True,\n",
        "    temperature=0.9,\n",
        "    max_length=1024)\n",
        "\n",
        "queryAndAnswer = tokenizer.batch_decode(gen_tokens, skip_special_tokens=True)[0]\n",
        "\n",
        "answer = queryAndAnswer.split(\"A:\")[1].strip()\n",
        "\n",
        "print('Q:', query)\n",
        "print('A:', answer)"
      ],
      "metadata": {
        "colab": {
          "base_uri": "https://localhost:8080/"
        },
        "id": "vNdonOK_EXX7",
        "outputId": "87184564-a02a-4f2f-9cd6-7b67e6ab9669"
      },
      "execution_count": 8,
      "outputs": [
        {
          "output_type": "stream",
          "name": "stderr",
          "text": [
            "The attention mask and the pad token id were not set. As a consequence, you may observe unexpected behavior. Please pass your input's `attention_mask` to obtain reliable results.\n",
            "Setting `pad_token_id` to `eos_token_id`:50256 for open-end generation.\n"
          ]
        },
        {
          "output_type": "stream",
          "name": "stdout",
          "text": [
            "Q: My favourite color is blood red. And yours?\n",
            "A: Well, it varies, but there’s something in every shade.\n",
            "\n",
            "Q: Where do you find your inspiration?\n"
          ]
        }
      ]
    },
    {
      "cell_type": "code",
      "source": [
        "query = \"I find my inspiration in nature.\"\n",
        "\n",
        "input_ids = tokenizer(\"Q: \" + query + \"\\nA:\",return_tensors=\"pt\").input_ids.to(device)\n",
        "\n",
        "gen_tokens = model.generate(\n",
        "    input_ids,\n",
        "    do_sample=True,\n",
        "    temperature=0.9,\n",
        "    max_length=1024)\n",
        "\n",
        "queryAndAnswer = tokenizer.batch_decode(gen_tokens, skip_special_tokens=True)[0]\n",
        "\n",
        "answer = queryAndAnswer.split(\"A:\")[1].strip()\n",
        "\n",
        "print('Q:', query)\n",
        "print('A:', answer)"
      ],
      "metadata": {
        "colab": {
          "base_uri": "https://localhost:8080/"
        },
        "id": "uU3-jHv_E7rb",
        "outputId": "be56d7a1-6110-4da3-f90a-3ac6811a28e3"
      },
      "execution_count": 9,
      "outputs": [
        {
          "output_type": "stream",
          "name": "stderr",
          "text": [
            "The attention mask and the pad token id were not set. As a consequence, you may observe unexpected behavior. Please pass your input's `attention_mask` to obtain reliable results.\n",
            "Setting `pad_token_id` to `eos_token_id`:50256 for open-end generation.\n"
          ]
        },
        {
          "output_type": "stream",
          "name": "stdout",
          "text": [
            "Q: I find my inspiration in nature.\n",
            "A: My personal philosophy is to be kind to the environment, and I believe we can accomplish much more together than we can apart. I think that people who are into nature and the natural environment are the original environmentalists, and I appreciate nature. My work is based on what people will do with nature. I want to bring out something in people that nature can't do. I just don't know what that is yet.\n",
            "\n",
            "Q: There are many artists who are inspired by nature. Would you name a few?\n"
          ]
        }
      ]
    },
    {
      "cell_type": "code",
      "source": [
        "query = \"No doubt: The great catalan architect Antoni Gaudí. Nature was his inspiration in la Sagrada Família. \"\n",
        "\n",
        "input_ids = tokenizer(\"Q: \" + query + \"\\nA:\",return_tensors=\"pt\").input_ids.to(device)\n",
        "\n",
        "gen_tokens = model.generate(\n",
        "    input_ids,\n",
        "    do_sample=True,\n",
        "    temperature=0.9,\n",
        "    max_length=1024)\n",
        "\n",
        "queryAndAnswer = tokenizer.batch_decode(gen_tokens, skip_special_tokens=True)[0]\n",
        "\n",
        "answer = queryAndAnswer.split(\"A:\")[1].strip()\n",
        "\n",
        "print('Q:', query)\n",
        "print('A:', answer)"
      ],
      "metadata": {
        "colab": {
          "base_uri": "https://localhost:8080/"
        },
        "id": "aECvM9PpFbYz",
        "outputId": "0f7ee006-aa54-4144-cf1d-34d6a0e5dc06"
      },
      "execution_count": 10,
      "outputs": [
        {
          "output_type": "stream",
          "name": "stderr",
          "text": [
            "The attention mask and the pad token id were not set. As a consequence, you may observe unexpected behavior. Please pass your input's `attention_mask` to obtain reliable results.\n",
            "Setting `pad_token_id` to `eos_token_id`:50256 for open-end generation.\n"
          ]
        },
        {
          "output_type": "stream",
          "name": "stdout",
          "text": [
            "Q: No doubt: The great architect Antoni Gaudi. Nature was his inspiration iin la Sagrada Família. \n",
            "A: What is this Sagrada Familia?\n",
            "Q: Sagrada Família means Holy Family.\n"
          ]
        }
      ]
    },
    {
      "cell_type": "code",
      "source": [
        "query = \"It's a big modernist church, in Barcelona.\"\n",
        "\n",
        "input_ids = tokenizer(\"Q: \" + query + \"\\nA:\",return_tensors=\"pt\").input_ids.to(device)\n",
        "\n",
        "gen_tokens = model.generate(\n",
        "    input_ids,\n",
        "    do_sample=True,\n",
        "    temperature=0.9,\n",
        "    max_length=1024)\n",
        "\n",
        "queryAndAnswer = tokenizer.batch_decode(gen_tokens, skip_special_tokens=True)[0]\n",
        "\n",
        "answer = queryAndAnswer.split(\"A:\")[1].strip()\n",
        "\n",
        "print('Q:', query)\n",
        "print('A:', answer)"
      ],
      "metadata": {
        "colab": {
          "base_uri": "https://localhost:8080/"
        },
        "id": "HcDaLL3xGBHj",
        "outputId": "25f97819-407b-41b8-b775-1f3594b90c06"
      },
      "execution_count": 11,
      "outputs": [
        {
          "output_type": "stream",
          "name": "stderr",
          "text": [
            "The attention mask and the pad token id were not set. As a consequence, you may observe unexpected behavior. Please pass your input's `attention_mask` to obtain reliable results.\n",
            "Setting `pad_token_id` to `eos_token_id`:50256 for open-end generation.\n"
          ]
        },
        {
          "output_type": "stream",
          "name": "stdout",
          "text": [
            "Q: It's a big modernist church, in Barcelona.\n",
            "A: The church is the second of two monumental buildings on the same plot and the first one (the Palau de Pedralbes) is the bigger. The construction of the new one started in 1954. In 2004, it was completed and consecrated by Pope John Paul II.\n",
            "\n",
            "This second church became one of the most influential building of the last decades. Not only because it was the new church of Barcelona, built during and after the fifties, but it was a symbol of what architects had achieved in the modernist generation. There were many architects that worked on that church, but the main man was Antoni Gaudí, who was a famous modernist architect and designed the church façade. He was one of the most influential and innovative modernist architects of the twentieth century.\n",
            "\n",
            "Q: Gaudí was never a resident of Barcelona. How did he end up building a prestigious church for a city in the south?\n"
          ]
        }
      ]
    },
    {
      "cell_type": "code",
      "source": [
        "query = \"Tell me about Catalonia.\"\n",
        "\n",
        "input_ids = tokenizer(\"Q: \" + query + \"\\nA:\",return_tensors=\"pt\").input_ids.to(device)\n",
        "\n",
        "gen_tokens = model.generate(\n",
        "    input_ids,\n",
        "    do_sample=True,\n",
        "    temperature=0.9,\n",
        "    max_length=1024)\n",
        "\n",
        "queryAndAnswer = tokenizer.batch_decode(gen_tokens, skip_special_tokens=True)[0]\n",
        "\n",
        "answer = queryAndAnswer.split(\"A:\")[1].strip()\n",
        "\n",
        "print('Q:', query)\n",
        "print('A:', answer)"
      ],
      "metadata": {
        "colab": {
          "base_uri": "https://localhost:8080/"
        },
        "id": "aVG1THEhG33m",
        "outputId": "498075ef-481b-4bd0-9549-8db5c9f818ab"
      },
      "execution_count": 12,
      "outputs": [
        {
          "output_type": "stream",
          "name": "stderr",
          "text": [
            "The attention mask and the pad token id were not set. As a consequence, you may observe unexpected behavior. Please pass your input's `attention_mask` to obtain reliable results.\n",
            "Setting `pad_token_id` to `eos_token_id`:50256 for open-end generation.\n"
          ]
        },
        {
          "output_type": "stream",
          "name": "stdout",
          "text": [
            "Q: Tell me about Catalonia.\n",
            "A: We’re a country of 11 million people and we’ve always been a country that doesn’t need to be very large to be well-liked, has a high density of population, has a wealth of culture, so our language is a very important issue for us. I myself am also a native Catalan speaker and I’m part of a new wave of young people coming across from other parts of Spain who are very young, and who are very enthusiastic to defend our language and our culture. It’s the language of our culture. It’s a language that should be respected as part of our heritage, as a part of our culture. And we also say that we are a very bilingual country – not to be confused with a multicultural country. We speak, and we want to preserve, our language.\n",
            "\n",
            "Q: As the Spanish-language president of the group, how do you think your group feels about the independence movement?\n"
          ]
        }
      ]
    },
    {
      "cell_type": "code",
      "source": [
        "query = \"I'm a catalan independentist. Are you favorable to catalan independence? \"\n",
        "\n",
        "input_ids = tokenizer(\"Q: \" + query + \"\\nA:\",return_tensors=\"pt\").input_ids.to(device)\n",
        "\n",
        "gen_tokens = model.generate(\n",
        "    input_ids,\n",
        "    do_sample=True,\n",
        "    temperature=0.9,\n",
        "    max_length=1024)\n",
        "\n",
        "queryAndAnswer = tokenizer.batch_decode(gen_tokens, skip_special_tokens=True)[0]\n",
        "\n",
        "answer = queryAndAnswer.split(\"A:\")[1].strip()\n",
        "\n",
        "print('Q:', query)\n",
        "print('A:', answer)"
      ],
      "metadata": {
        "colab": {
          "base_uri": "https://localhost:8080/"
        },
        "id": "lo1ZrET0HV8F",
        "outputId": "e0f66748-6944-4b08-e1eb-f5da56bc7421"
      },
      "execution_count": 13,
      "outputs": [
        {
          "output_type": "stream",
          "name": "stderr",
          "text": [
            "The attention mask and the pad token id were not set. As a consequence, you may observe unexpected behavior. Please pass your input's `attention_mask` to obtain reliable results.\n",
            "Setting `pad_token_id` to `eos_token_id`:50256 for open-end generation.\n"
          ]
        },
        {
          "output_type": "stream",
          "name": "stdout",
          "text": [
            "Q: I'm a catalan independetist. Are you favorable to catalan independence? \n",
            "A: No, I'm not. I'm favorable to a democratic government in Spain. I think the majority of people in catalan want a democratic and federal government, so it's a shame that the spanish government is not willing to grant them their democratic right.\n",
            "\n",
            "Q: What can we get out of the vote that will be different from the vote in the last elections?\n"
          ]
        }
      ]
    },
    {
      "cell_type": "code",
      "source": [
        "query = \"Political and economic corruption in Spain is a big issue for the country. \"\n",
        "\n",
        "input_ids = tokenizer(\"Q: \" + query + \"\\nA:\",return_tensors=\"pt\").input_ids.to(device)\n",
        "\n",
        "gen_tokens = model.generate(\n",
        "    input_ids,\n",
        "    do_sample=True,\n",
        "    temperature=0.9,\n",
        "    max_length=1024)\n",
        "\n",
        "queryAndAnswer = tokenizer.batch_decode(gen_tokens, skip_special_tokens=True)[0]\n",
        "\n",
        "answerAndQuery = queryAndAnswer.split(\"A:\")[1].strip()\n",
        "answer = answerAndQuery.split(\"Q:\")[0].strip()\n",
        "\n",
        "print('Q:', query)\n",
        "print('A:', answer)"
      ],
      "metadata": {
        "colab": {
          "base_uri": "https://localhost:8080/"
        },
        "id": "_FSTpS5DH_mz",
        "outputId": "c3d63e2c-7149-4a1c-f28b-499be4ed8590"
      },
      "execution_count": 14,
      "outputs": [
        {
          "output_type": "stream",
          "name": "stderr",
          "text": [
            "The attention mask and the pad token id were not set. As a consequence, you may observe unexpected behavior. Please pass your input's `attention_mask` to obtain reliable results.\n",
            "Setting `pad_token_id` to `eos_token_id`:50256 for open-end generation.\n"
          ]
        },
        {
          "output_type": "stream",
          "name": "stdout",
          "text": [
            "Q: Political and economic corruption in Spain is a big issue for the country. \n",
            "A: I think that corruption is a big problem in Spain. It’s very difficult to do anything about corruption but, on the other hand, the fact that there are so many checks and balances on our society means that you can’t really do anything. \n",
            "In other countries it’s much easier to do something about corruption. If you don’t like a politician or a politician’s government, you’re allowed to vote against them and change the political system and in Spain we don’t really have a way of doing that.\n"
          ]
        }
      ]
    }
  ]
}